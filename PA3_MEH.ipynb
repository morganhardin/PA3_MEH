{
 "cells": [
  {
   "cell_type": "markdown",
   "id": "e7426f9f-8623-42aa-8b87-1f6b54c96c09",
   "metadata": {},
   "source": [
    "## Programming Assignment 3\n",
    "---\n",
    "**Author:** Morgan Hardin  \n",
    "**Version:** 1.0  \n",
    "**Semester:** Spring 2024 \n",
    "\n",
    "This *notebook* contains my solution(s) to **Programming Assignment 3**\n",
    "\n",
    "- Problem 1: Geometry Calculator\n",
    "- Problem 2: Horse Computations\n",
    "- Problem 3: Mean Temperature"
   ]
  },
  {
   "cell_type": "markdown",
   "id": "2cd3987f-e997-47da-98f9-b99ad6bfd3bf",
   "metadata": {},
   "source": [
    "### Importing Libraries"
   ]
  },
  {
   "cell_type": "code",
   "execution_count": 1,
   "id": "6d278244-52a9-4fee-806f-fc6952f2f841",
   "metadata": {},
   "outputs": [],
   "source": [
    "import math"
   ]
  },
  {
   "cell_type": "markdown",
   "id": "f851c5df-1799-4665-aaa5-de074cb5eb6b",
   "metadata": {},
   "source": [
    "### Problem 1: Geometry Calculator"
   ]
  },
  {
   "cell_type": "code",
   "execution_count": 2,
   "id": "6fe7afb2-cd53-4371-ba48-240e7709bfc6",
   "metadata": {},
   "outputs": [],
   "source": [
    "def square():\n",
    "    side = float(input(\"Enter the side of the square: \"))\n",
    "    area = side**2\n",
    "    perimeter = 4 * side\n",
    "    output = f'\\nThe area is {area:.2f} and the perimeter is {perimeter:.2f}.\\n'\n",
    "    return output"
   ]
  },
  {
   "cell_type": "code",
   "execution_count": 3,
   "id": "6af3ad3b-e2af-436d-b6d3-20d2176ec522",
   "metadata": {},
   "outputs": [],
   "source": [
    "def triangle():\n",
    "    base = float(input(\"Enter the base of the triangle: \"))\n",
    "    height = float(input(\"Enter the height of the triangle: \"))\n",
    "    area = 0.5 * base * height\n",
    "    perimeter = base + height + math.sqrt(base**2 + height**2)\n",
    "    output = f'\\nThe area is {area:.2f} and the perimeter is {perimeter:.2f}.\\n'\n",
    "    return output"
   ]
  },
  {
   "cell_type": "code",
   "execution_count": 4,
   "id": "3c1af48a-b331-4f07-9c33-b64818cd8880",
   "metadata": {},
   "outputs": [],
   "source": [
    "def circle():\n",
    "    radius = float(input(\"Enter the radius of the circle: \"))\n",
    "    area = math.pi * radius**2\n",
    "    circumference = 2 * math.pi * radius\n",
    "    output = f'\\nThe area is {area:.2f} and the perimeter is {circumference:.2f}.\\n'\n",
    "    return output"
   ]
  },
  {
   "cell_type": "code",
   "execution_count": 5,
   "id": "e63288e4-1ec2-4d58-9b8c-b0f76ead4d7f",
   "metadata": {},
   "outputs": [],
   "source": [
    "def rectangle():\n",
    "    length = float(input(\"Enter the length of the rectangle: \"))\n",
    "    width = float(input(\"Enter the width of the rectangle: \"))\n",
    "    area = length * width\n",
    "    perimeter = 2 * (length * width)\n",
    "    output = f'\\nThe area is {area:.2f} and the perimeter is {perimeter:.2f}.\\n'\n",
    "    return output"
   ]
  },
  {
   "cell_type": "code",
   "execution_count": 6,
   "id": "822d643d-409f-4aaa-8714-0849c2658329",
   "metadata": {},
   "outputs": [],
   "source": [
    "def eclipse():\n",
    "    radius_length = float(input(\"Enter the length radius of the eclipse: \"))\n",
    "    radius_width = float(input(\"Enter the width radius of the eclipse: \"))\n",
    "    area = math.pi * radius_length * radius_width\n",
    "    circumference = math.pi * ((3 * radius_length * radius_width) - math.sqrt((3 * radius_length + radius_width) * (3 * radius_width + radius_length)))\n",
    "    output = f'\\nThe area is {area:.2f} and the perimeter is {circumference:.2f}.\\n'\n",
    "    return output"
   ]
  },
  {
   "cell_type": "code",
   "execution_count": 7,
   "id": "b14a4d28-c95b-410b-b7a8-bba26852d755",
   "metadata": {},
   "outputs": [],
   "source": [
    "def trapezoid():\n",
    "    top_length = float(input(\"Enter the top length of the trapezoid: \"))\n",
    "    bottom_length = float(input(\"Enter the bottom length of the trapezoid: \"))\n",
    "    height = float(input(\"Enter the height of the trapezoid: \"))\n",
    "    area = ((top_length + bottom_length) / 2) * height\n",
    "    perimeter = top_length + bottom_length + height\n",
    "    output = f'\\nThe area is {area:.2f} and the perimeter is {perimeter:.2f}.\\n'\n",
    "    return output"
   ]
  },
  {
   "cell_type": "code",
   "execution_count": 8,
   "id": "7d80ca52-fb0c-401f-82c2-6d91ed8f809b",
   "metadata": {},
   "outputs": [
    {
     "name": "stdin",
     "output_type": "stream",
     "text": [
      "Enter the shape you would like to calculate:\n",
      "\t'S', 'TRI', 'C', 'R', 'E', 'TRAP', or 'Q' to Quit. Q\n"
     ]
    }
   ],
   "source": [
    "shape = input(\"Enter the shape you would like to calculate:\\n\\t'S', 'TRI', 'C', 'R', 'E', 'TRAP', or 'Q' to Quit.\")\n",
    "while(shape != \"Q\"):\n",
    "    if shape == \"S\":\n",
    "        print(square())\n",
    "    elif shape == \"TRI\":\n",
    "        print(triangle())\n",
    "    elif shape == \"C\":\n",
    "        print(circle())\n",
    "    elif shape == \"R\":\n",
    "        print(rectangle())\n",
    "    elif shape == \"E\":\n",
    "        print(eclipse())\n",
    "    elif shape == \"TRAP\":\n",
    "        print(trapezoid())\n",
    "    else:\n",
    "        print(\"\\nThat is not a valid option.\\n\")\n",
    "    shape = input(\"Enter the shape you would like to calculate:\\n\\t'S', 'TRI', 'C', 'R', 'E', 'TRAP', or 'Q' to Quit.\")"
   ]
  },
  {
   "cell_type": "markdown",
   "id": "4d23d717-93c5-4c4f-ba63-6f09e80633a7",
   "metadata": {},
   "source": [
    "### Problem 2: Horse Computations"
   ]
  },
  {
   "cell_type": "code",
   "execution_count": 9,
   "id": "ff5ebd85-1f2b-49d3-b23c-2c75f8a5f668",
   "metadata": {},
   "outputs": [],
   "source": [
    "def convert_hands(hands = 5):\n",
    "    feet = hands * 0.3333333\n",
    "    length = feet / 8\n",
    "    output = f'\\nThe number of hands is {hands:.2f}, in feet it is {feet:.2f}, and in horse length it is {length:.2f}.\\n'\n",
    "    return output"
   ]
  },
  {
   "cell_type": "code",
   "execution_count": 10,
   "id": "e7d5f525-67a0-4634-b839-6952b174cf9a",
   "metadata": {},
   "outputs": [],
   "source": [
    "def convert_length(length = 1):\n",
    "    feet = length * 8\n",
    "    hands = feet / 0.3333333\n",
    "    output = f'\\nThe number of hands is {length:.2f}, in feet it is {feet:.2f}, and in hands it is {hands:.2f}.\\n'\n",
    "    return output"
   ]
  },
  {
   "cell_type": "code",
   "execution_count": 11,
   "id": "fc76d9a3-90b7-44a4-8b70-16fbb4debd56",
   "metadata": {},
   "outputs": [
    {
     "name": "stdin",
     "output_type": "stream",
     "text": [
      "Enter the unit you would like to calculate:\n",
      "\t'H', 'L', or 'Q' to Quit. Q\n"
     ]
    }
   ],
   "source": [
    "unit = input(\"Enter the unit you would like to calculate:\\n\\t'H', 'L', or 'Q' to Quit.\")\n",
    "while(unit != \"Q\"):\n",
    "    if unit == \"H\":\n",
    "        hands = float(input(\"Enter the amount of hands to convert to feet: \"))\n",
    "        print(convert_hands(hands))\n",
    "    elif unit == \"L\":\n",
    "        length = float(input(\"Enter the amount of horse length to convert to feet: \"))\n",
    "        print(convert_length(length))\n",
    "    else:\n",
    "        print(\"\\nThat is not a valid option.\\n\")\n",
    "    unit = input(\"Enter the unit you would like to calculate:\\n\\t'H', 'L', or 'Q' to Quit.\")"
   ]
  },
  {
   "cell_type": "markdown",
   "id": "c40f7cd4-e57d-45a7-a505-bc46b14d3424",
   "metadata": {},
   "source": [
    "### Problem 3: Mean Temperature"
   ]
  },
  {
   "cell_type": "code",
   "execution_count": 12,
   "id": "6e49197e-6ca0-47c9-9fd3-bc0177dda283",
   "metadata": {},
   "outputs": [
    {
     "name": "stdout",
     "output_type": "stream",
     "text": [
      "The mean temperature for the past 13 days is 57.31 degrees F.\n"
     ]
    }
   ],
   "source": [
    "temperatures = [78, 34, 45, 89, 53, 23, 65, 34, 67, 89, 76, 54, 38]\n",
    "def meanTemp(temperatures):\n",
    "    mean = 0\n",
    "    for i in temperatures:\n",
    "        mean = i + mean\n",
    "    days = len(temperatures)\n",
    "    mean = mean / days\n",
    "    output = f'The mean temperature for the past {days:.0f} days is {mean:.2f} degrees F.'\n",
    "    return output\n",
    "print(meanTemp(temperatures))"
   ]
  }
 ],
 "metadata": {
  "kernelspec": {
   "display_name": "Python 3 (ipykernel)",
   "language": "python",
   "name": "python3"
  },
  "language_info": {
   "codemirror_mode": {
    "name": "ipython",
    "version": 3
   },
   "file_extension": ".py",
   "mimetype": "text/x-python",
   "name": "python",
   "nbconvert_exporter": "python",
   "pygments_lexer": "ipython3",
   "version": "3.9.12"
  }
 },
 "nbformat": 4,
 "nbformat_minor": 5
}
